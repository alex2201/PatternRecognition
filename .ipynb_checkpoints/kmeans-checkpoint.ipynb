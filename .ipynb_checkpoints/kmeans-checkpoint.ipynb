{
 "cells": [
  {
   "cell_type": "code",
   "execution_count": 2,
   "metadata": {
    "collapsed": true
   },
   "outputs": [],
   "source": [
    "# Imports\n",
    "import cv2\n",
    "import matplotlib.pyplot as plt"
   ]
  },
  {
   "cell_type": "code",
   "execution_count": 3,
   "metadata": {},
   "outputs": [
    {
     "data": {
      "text/plain": [
       "<matplotlib.image.AxesImage at 0x17c61357b38>"
      ]
     },
     "execution_count": 3,
     "metadata": {},
     "output_type": "execute_result"
    },
    {
     "data": {
      "image/png": "[encoded data removed]",
      "text/plain": [
       "<Figure size 432x288 with 1 Axes>"
      ]
     },
     "metadata": {},
     "output_type": "display_data"
    }
   ],
   "source": [
    "# Load image\n",
    "def load_image(path):\n",
    "    return cv2.imread(path)\n",
    "\n",
    "\n",
    "img_path = r'C:\\Users\\Alexander\\PycharmProjects\\PatternRecognition\\image.png'\n",
    "img = load_image(img_path)\n",
    "original_img = img[:, :, ::-1]  # Get original colors\n",
    "\n",
    "plt.imshow(original_img)\n"
   ]
  },
  {
   "cell_type": "code",
   "execution_count": null,
   "metadata": {},
   "outputs": [
    {
     "name": "stdout",
     "output_type": "stream",
     "text": [
      "Cluster 0\n",
      "[[[  0 206 255]\n",
      "  [  0 206 255]\n",
      "  [  0 206 255]\n",
      "  ...\n",
      "  [  0 206 255]\n",
      "  [  0 206 255]\n",
      "  [  0 206 255]]]\n",
      "Cluster 1\n",
      "[[[  0   0   0]\n",
      "  [  0   0   0]\n",
      "  [  0   0   0]\n",
      "  ...\n",
      "  [  0   0   0]\n",
      "  [  0   0   0]\n",
      "  [  0   0   0]]\n",
      "\n",
      " [[  0   0 221]\n",
      "  [  0   0 221]\n",
      "  [  0   0 221]\n",
      "  ...\n",
      "  [  0   0 221]\n",
      "  [  0   0 221]\n",
      "  [  0   0 221]]]\n",
      "Cluster 2\n",
      "[[[  0 206 255]\n",
      "  [  0 206 255]\n",
      "  [  0 206 255]\n",
      "  ...\n",
      "  [  0 206 255]\n",
      "  [  0 206 255]\n",
      "  [  0 206 255]]]\n"
     ]
    }
   ],
   "source": [
    "from copy import deepcopy\n",
    "\n",
    "import matplotlib.pyplot as plt\n",
    "import numpy as np\n",
    "import numpy.random as rand\n",
    "import scipy.linalg as la\n",
    "import cv2\n",
    "\n",
    "\n",
    "def kmeans(po_data, pi_k):\n",
    "    n = len(po_data)\n",
    "    picks = get_picks(n, pi_k)\n",
    "    picked_data = [po_data[i] for i in picks]\n",
    "    means = np.array(picked_data)  # Init means\n",
    "    temp_clusters = dict()\n",
    "    has_changed = True\n",
    "\n",
    "    while has_changed:\n",
    "        temp_clusters = {i: np.array([m]) for i, m in enumerate(picked_data)}  # Init clusters\n",
    "\n",
    "        for d in po_data:\n",
    "            cluster_index = min([[euclidean_distance(d, m), i] for i, m in enumerate(means)], key=lambda x: x[0])[1]\n",
    "            cluster = temp_clusters[cluster_index]\n",
    "\n",
    "            concatenate = True\n",
    "\n",
    "            for c in cluster:\n",
    "                if np.all(c == d):\n",
    "                    concatenate = False\n",
    "                    break\n",
    "\n",
    "            if concatenate:\n",
    "                temp_clusters[cluster_index] = np.concatenate([cluster, [d]])\n",
    "\n",
    "        aux_means = np.array([temp_clusters[i].mean(0) for i in range(pi_k)])\n",
    "        has_changed = not (means == aux_means).all()\n",
    "\n",
    "        if has_changed:\n",
    "            means = deepcopy(aux_means)\n",
    "\n",
    "    return means, temp_clusters\n",
    "\n",
    "\n",
    "def euclidean_distance(a, b):\n",
    "    return la.norm(a - b)\n",
    "\n",
    "\n",
    "def get_picks(pi_n, pi_k):\n",
    "    picks = []\n",
    "    array = np.array(range(pi_n))\n",
    "\n",
    "    while len(picks) != pi_k:\n",
    "        choice = rand.choice(array)\n",
    "\n",
    "        if choice not in picks:\n",
    "            picks.append(choice)\n",
    "\n",
    "    return picks\n",
    "\n",
    "\n",
    "k = 3\n",
    "centroids, clusters = kmeans(img, k)\n",
    "\n",
    "plt.scatter(centroids[:, 0], centroids[:, 1], label='centroids')\n",
    "\n",
    "plt.legend()\n",
    "\n",
    "plt.show()"
   ]
  },
  {
   "cell_type": "code",
   "execution_count": null,
   "metadata": {},
   "outputs": [],
   "source": []
  }
 ],
 "metadata": {
  "kernelspec": {
   "display_name": "Python 3",
   "language": "python",
   "name": "python3"
  },
  "language_info": {
   "codemirror_mode": {
    "name": "ipython",
    "version": 3
   },
   "file_extension": ".py",
   "mimetype": "text/x-python",
   "name": "python",
   "nbconvert_exporter": "python",
   "pygments_lexer": "ipython3",
   "version": "3.7.3"
  }
 },
 "nbformat": 4,
 "nbformat_minor": 1
}
